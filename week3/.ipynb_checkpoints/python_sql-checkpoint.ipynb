{
 "cells": [
  {
   "cell_type": "code",
   "execution_count": 43,
   "id": "8ce928bf-26e0-4836-b5f5-b5a6cb48c1b6",
   "metadata": {
    "tags": []
   },
   "outputs": [
    {
     "name": "stdout",
     "output_type": "stream",
     "text": [
      "Defaulting to user installation because normal site-packages is not writeable\n",
      "Requirement already satisfied: duckdb in /Users/dmnavarro/.local/lib/python3.7/site-packages (0.10.2)\n",
      "\n",
      "\u001b[1m[\u001b[0m\u001b[34;49mnotice\u001b[0m\u001b[1;39;49m]\u001b[0m\u001b[39;49m A new release of pip is available: \u001b[0m\u001b[31;49m23.3.2\u001b[0m\u001b[39;49m -> \u001b[0m\u001b[32;49m24.0\u001b[0m\n",
      "\u001b[1m[\u001b[0m\u001b[34;49mnotice\u001b[0m\u001b[1;39;49m]\u001b[0m\u001b[39;49m To update, run: \u001b[0m\u001b[32;49mpip install --upgrade pip\u001b[0m\n",
      "Note: you may need to restart the kernel to use updated packages.\n"
     ]
    }
   ],
   "source": [
    "pip install duckdb"
   ]
  },
  {
   "cell_type": "code",
   "execution_count": 44,
   "id": "6026a2fa-f928-4f43-9d75-81439649c5e2",
   "metadata": {
    "tags": []
   },
   "outputs": [],
   "source": [
    "import duckdb"
   ]
  },
  {
   "cell_type": "markdown",
   "id": "5d888446-47ec-4828-902e-b3f55875af95",
   "metadata": {},
   "source": [
    "Create a connection and a server"
   ]
  },
  {
   "cell_type": "code",
   "execution_count": 45,
   "id": "699fb802-81cf-438d-97cb-0c1244a1aea0",
   "metadata": {
    "tags": []
   },
   "outputs": [],
   "source": [
    "conn = duckdb.connect(\"database.db\") "
   ]
  },
  {
   "cell_type": "code",
   "execution_count": 46,
   "id": "a186b429-a944-4ecf-9514-e5848cd8520e",
   "metadata": {
    "tags": []
   },
   "outputs": [
    {
     "data": {
      "text/plain": [
       "<duckdb.duckdb.DuckDBPyConnection at 0x7f2a786d1f70>"
      ]
     },
     "execution_count": 46,
     "metadata": {},
     "output_type": "execute_result"
    }
   ],
   "source": [
    "conn"
   ]
  },
  {
   "cell_type": "code",
   "execution_count": 47,
   "id": "9217dd9a-1a96-4bf0-8e77-09ed49f429f1",
   "metadata": {
    "tags": []
   },
   "outputs": [],
   "source": [
    "cur = conn.cursor()"
   ]
  },
  {
   "cell_type": "markdown",
   "id": "d62899fa-37fd-4b5f-9953-ded1b4f2b0c7",
   "metadata": {},
   "source": [
    "Now let's do something with our cursor "
   ]
  },
  {
   "cell_type": "code",
   "execution_count": 48,
   "id": "0f1ad8b3-4b45-4cc5-bc4e-38a71294f2f3",
   "metadata": {
    "tags": []
   },
   "outputs": [
    {
     "data": {
      "text/plain": [
       "<duckdb.duckdb.DuckDBPyConnection at 0x7f2a406fe070>"
      ]
     },
     "execution_count": 48,
     "metadata": {},
     "output_type": "execute_result"
    }
   ],
   "source": [
    "cur.execute(\"SELECT * FROM Site LIMIT 5\")"
   ]
  },
  {
   "cell_type": "markdown",
   "id": "03d2cb6d-09ce-4c5f-ab45-85a4b6919434",
   "metadata": {},
   "source": [
    "Now we want results..three ways of getting them:\n",
    "1. All results at once"
   ]
  },
  {
   "cell_type": "code",
   "execution_count": 49,
   "id": "878b406e-2030-4bf5-ac98-475ff41c8fa4",
   "metadata": {
    "tags": []
   },
   "outputs": [
    {
     "data": {
      "text/plain": [
       "[('barr',\n",
       "  'Barrow',\n",
       "  'Alaska, USA',\n",
       "  71.30000305175781,\n",
       "  -156.60000610351562,\n",
       "  220.39999389648438),\n",
       " ('burn',\n",
       "  'Burntpoint Creek',\n",
       "  'Ontario, Canada',\n",
       "  55.20000076293945,\n",
       "  -84.30000305175781,\n",
       "  63.0),\n",
       " ('bylo',\n",
       "  'Bylot Island',\n",
       "  'Nunavut, Canada',\n",
       "  73.19999694824219,\n",
       "  -80.0,\n",
       "  723.5999755859375),\n",
       " ('cakr',\n",
       "  'Cape Krusenstern',\n",
       "  'Alaska, USA',\n",
       "  67.0999984741211,\n",
       "  -163.5,\n",
       "  54.099998474121094),\n",
       " ('cari',\n",
       "  'Canning River Delta',\n",
       "  'Alaska, USA',\n",
       "  70.0999984741211,\n",
       "  -145.8000030517578,\n",
       "  722.0)]"
      ]
     },
     "execution_count": 49,
     "metadata": {},
     "output_type": "execute_result"
    }
   ],
   "source": [
    "cur.fetchall()"
   ]
  },
  {
   "cell_type": "markdown",
   "id": "dd80f837-5824-4019-8857-10549b0160b7",
   "metadata": {
    "tags": []
   },
   "source": [
    "Cursors don't have to store anything, they just transfer queries to the database and get results back. "
   ]
  },
  {
   "cell_type": "code",
   "execution_count": 50,
   "id": "fd4ad57d-0f83-4922-b30f-91068b6f3965",
   "metadata": {
    "tags": []
   },
   "outputs": [
    {
     "data": {
      "text/plain": [
       "[]"
      ]
     },
     "execution_count": 50,
     "metadata": {},
     "output_type": "execute_result"
    }
   ],
   "source": [
    "cur.fetchall()"
   ]
  },
  {
   "cell_type": "code",
   "execution_count": 51,
   "id": "6980d7d7-3447-410b-a4b0-6f474230ead4",
   "metadata": {
    "tags": []
   },
   "outputs": [
    {
     "data": {
      "text/plain": [
       "['14HPE1',\n",
       " '11eaba',\n",
       " '11eabaagc01',\n",
       " '11eabaagv01',\n",
       " '11eababbc02',\n",
       " '11eababsv01',\n",
       " '11eabaduh01',\n",
       " '11eabaduv01',\n",
       " '11eabarpc01',\n",
       " '11eabarpc02']"
      ]
     },
     "execution_count": 51,
     "metadata": {},
     "output_type": "execute_result"
    }
   ],
   "source": [
    "cur.execute(\"SELECT Nest_ID FROM Bird_nests LIMIT 10\")\n",
    "[t[0] for t in cur.fetchall()]"
   ]
  },
  {
   "cell_type": "code",
   "execution_count": 52,
   "id": "abeb04f7-187b-4cf8-971d-33627357ac62",
   "metadata": {
    "tags": []
   },
   "outputs": [
    {
     "data": {
      "text/plain": [
       "[(1547,)]"
      ]
     },
     "execution_count": 52,
     "metadata": {},
     "output_type": "execute_result"
    }
   ],
   "source": [
    "cur.execute(\"SELECT COUNT(*) FROM Bird_nests\")\n",
    "cur.fetchall() # tupple of one element"
   ]
  },
  {
   "cell_type": "code",
   "execution_count": 53,
   "id": "f838c66b-6085-413f-8b68-87b4837980ca",
   "metadata": {
    "tags": []
   },
   "outputs": [
    {
     "data": {
      "text/plain": [
       "(1547,)"
      ]
     },
     "execution_count": 53,
     "metadata": {},
     "output_type": "execute_result"
    }
   ],
   "source": [
    "# more convenient to say\n",
    "cur.execute(\"SELECT COUNT(*) FROM Bird_nests\")\n",
    "cur.fetchone()"
   ]
  },
  {
   "cell_type": "code",
   "execution_count": 54,
   "id": "89abaa3c-e176-4eae-9fcf-6221208861e6",
   "metadata": {
    "tags": []
   },
   "outputs": [
    {
     "data": {
      "text/plain": [
       "1547"
      ]
     },
     "execution_count": 54,
     "metadata": {},
     "output_type": "execute_result"
    }
   ],
   "source": [
    "cur.execute(\"SELECT COUNT(*) FROM Bird_nests\")\n",
    "cur.fetchone()[0]"
   ]
  },
  {
   "cell_type": "markdown",
   "id": "7d2c30e4-23d1-4967-9c8d-c2aa7abf5b06",
   "metadata": {},
   "source": [
    "3. using an iterator - but Duckdb doesn't support iterators :("
   ]
  },
  {
   "cell_type": "code",
   "execution_count": 55,
   "id": "92c9e224-0850-4f8b-8f1d-40681a9bae4d",
   "metadata": {
    "tags": []
   },
   "outputs": [
    {
     "name": "stdout",
     "output_type": "stream",
     "text": [
      "got nest ID 14HPE1\n",
      "got nest ID 11eaba\n",
      "got nest ID 11eabaagc01\n",
      "got nest ID 11eabaagv01\n",
      "got nest ID 11eababbc02\n",
      "got nest ID 11eababsv01\n",
      "got nest ID 11eabaduh01\n",
      "got nest ID 11eabaduv01\n",
      "got nest ID 11eabarpc01\n",
      "got nest ID 11eabarpc02\n"
     ]
    }
   ],
   "source": [
    "cur.execute(\"SELECT Nest_ID FROM Bird_nests LIMIT 10\") \n",
    "while True: \n",
    "    row = cur.fetchone()\n",
    "    if row == None: \n",
    "        break \n",
    "        #do something with row \n",
    "    print(f\"got nest ID {row[0]}\")"
   ]
  },
  {
   "cell_type": "markdown",
   "id": "b6cc8397-e24d-497d-8094-7f2552d4081a",
   "metadata": {},
   "source": [
    "Can do things other than SELECT! "
   ]
  },
  {
   "cell_type": "code",
   "execution_count": 56,
   "id": "469fa88d-be07-435e-ac6a-529a548d94ba",
   "metadata": {
    "tags": []
   },
   "outputs": [
    {
     "data": {
      "text/plain": [
       "<duckdb.duckdb.DuckDBPyConnection at 0x7f2a406fe070>"
      ]
     },
     "execution_count": 56,
     "metadata": {},
     "output_type": "execute_result"
    }
   ],
   "source": [
    "cur.execute(\"\"\"\n",
    "    CREATE TEMP TABLE temp_table AS \n",
    "    SELECT * FROM Bird_nests LIMIT 10 \n",
    "\"\"\")"
   ]
  },
  {
   "cell_type": "code",
   "execution_count": 57,
   "id": "078d2c35-5f02-449b-a29c-5e9a10dd2835",
   "metadata": {
    "tags": []
   },
   "outputs": [
    {
     "data": {
      "text/plain": [
       "<duckdb.duckdb.DuckDBPyConnection at 0x7f2a406fe070>"
      ]
     },
     "execution_count": 57,
     "metadata": {},
     "output_type": "execute_result"
    }
   ],
   "source": [
    "cur.execute(\"SELECT * FROM temp_table\") "
   ]
  },
  {
   "cell_type": "code",
   "execution_count": 58,
   "id": "71c8be9e-c9bb-44d4-9a61-fb211a0fcde1",
   "metadata": {
    "tags": []
   },
   "outputs": [
    {
     "data": {
      "text/plain": [
       "[('b14.6',\n",
       "  2014,\n",
       "  'chur',\n",
       "  '14HPE1',\n",
       "  'sepl',\n",
       "  'vloverti',\n",
       "  datetime.date(2014, 6, 14),\n",
       "  None,\n",
       "  3,\n",
       "  None,\n",
       "  None),\n",
       " ('b11.7',\n",
       "  2011,\n",
       "  'eaba',\n",
       "  '11eaba',\n",
       "  'wrsa',\n",
       "  'bhill',\n",
       "  datetime.date(2011, 7, 10),\n",
       "  'searcher',\n",
       "  4,\n",
       "  None,\n",
       "  None),\n",
       " ('b11.6',\n",
       "  2011,\n",
       "  'eaba',\n",
       "  '11eabaagc01',\n",
       "  'amgp',\n",
       "  'dkessler',\n",
       "  datetime.date(2011, 6, 24),\n",
       "  'searcher',\n",
       "  4,\n",
       "  6.0,\n",
       "  'float'),\n",
       " ('b11.6',\n",
       "  2011,\n",
       "  'eaba',\n",
       "  '11eabaagv01',\n",
       "  'amgp',\n",
       "  'dkessler',\n",
       "  datetime.date(2011, 6, 25),\n",
       "  'searcher',\n",
       "  3,\n",
       "  3.0,\n",
       "  'float'),\n",
       " ('b11.6',\n",
       "  2011,\n",
       "  'eaba',\n",
       "  '11eababbc02',\n",
       "  'bbpl',\n",
       "  'dkessler',\n",
       "  datetime.date(2011, 6, 24),\n",
       "  'searcher',\n",
       "  4,\n",
       "  4.0,\n",
       "  'float'),\n",
       " ('b11.7',\n",
       "  2011,\n",
       "  'eaba',\n",
       "  '11eababsv01',\n",
       "  'wrsa',\n",
       "  'bhill',\n",
       "  datetime.date(2011, 7, 7),\n",
       "  'searcher',\n",
       "  4,\n",
       "  2.0,\n",
       "  'float'),\n",
       " ('b11.6',\n",
       "  2011,\n",
       "  'eaba',\n",
       "  '11eabaduh01',\n",
       "  'dunl',\n",
       "  'dkessler',\n",
       "  datetime.date(2011, 6, 28),\n",
       "  'searcher',\n",
       "  3,\n",
       "  2.0,\n",
       "  'float'),\n",
       " ('b11.6',\n",
       "  2011,\n",
       "  'eaba',\n",
       "  '11eabaduv01',\n",
       "  'dunl',\n",
       "  'dkessler',\n",
       "  datetime.date(2011, 6, 29),\n",
       "  'searcher',\n",
       "  4,\n",
       "  5.0,\n",
       "  'float'),\n",
       " ('b11.7',\n",
       "  2011,\n",
       "  'eaba',\n",
       "  '11eabarpc01',\n",
       "  'reph',\n",
       "  'bhill',\n",
       "  datetime.date(2011, 7, 8),\n",
       "  'searcher',\n",
       "  4,\n",
       "  4.0,\n",
       "  'float'),\n",
       " ('b11.7',\n",
       "  2011,\n",
       "  'eaba',\n",
       "  '11eabarpc02',\n",
       "  'reph',\n",
       "  'bhill',\n",
       "  datetime.date(2011, 7, 8),\n",
       "  'searcher',\n",
       "  3,\n",
       "  4.0,\n",
       "  'float')]"
      ]
     },
     "execution_count": 58,
     "metadata": {},
     "output_type": "execute_result"
    }
   ],
   "source": [
    "cur.fetchall()"
   ]
  },
  {
   "cell_type": "markdown",
   "id": "bd254336-078a-4799-9193-f69815b1abb2",
   "metadata": {
    "tags": []
   },
   "source": [
    "A note on fragility\n",
    "\n",
    "For example: \n",
    "```\n",
    "INSERT INTO Site VALUES (\"abcd\", \"Foo\", 35.7, -119.5, \"?\") \n",
    "```\n",
    "\n",
    "A less fragile way of expressing the same thing: \n",
    "```\n",
    "INSERT INTO Site (Code, Site_name, latitude, longitude, Something_else) \n",
    "    VALUES(\"abcd\", \"Foo\", 35.7, -119.5, \"?\")\n",
    "```\n",
    "\n",
    "In the same vein: SELECT * is fragile: "
   ]
  },
  {
   "cell_type": "code",
   "execution_count": 59,
   "id": "8fac3c49-de9c-4bb0-b7e9-853e26ac7eed",
   "metadata": {
    "tags": []
   },
   "outputs": [
    {
     "data": {
      "text/plain": [
       "[('barr',\n",
       "  'Barrow',\n",
       "  'Alaska, USA',\n",
       "  71.30000305175781,\n",
       "  -156.60000610351562,\n",
       "  220.39999389648438),\n",
       " ('burn',\n",
       "  'Burntpoint Creek',\n",
       "  'Ontario, Canada',\n",
       "  55.20000076293945,\n",
       "  -84.30000305175781,\n",
       "  63.0),\n",
       " ('bylo',\n",
       "  'Bylot Island',\n",
       "  'Nunavut, Canada',\n",
       "  73.19999694824219,\n",
       "  -80.0,\n",
       "  723.5999755859375)]"
      ]
     },
     "execution_count": 59,
     "metadata": {},
     "output_type": "execute_result"
    }
   ],
   "source": [
    "cur.execute(\"SELECT * FROM Site LIMIT 3\") \n",
    "cur.fetchall()"
   ]
  },
  {
   "cell_type": "markdown",
   "id": "97b42950-3a0b-4004-9f8b-6b5535460fc6",
   "metadata": {
    "tags": []
   },
   "source": [
    "A better, more robust way of coding to the same thing:"
   ]
  },
  {
   "cell_type": "markdown",
   "id": "84a964cc-8338-4f36-9073-8d91209f9815",
   "metadata": {
    "tags": []
   },
   "source": [
    "cur.execute(\"SELECT Site_name, Code, Latitude, Longitude FROM Site LIMIT 3\")\n",
    "cur.fetchall()"
   ]
  },
  {
   "cell_type": "markdown",
   "id": "e10f7259-eb15-40dc-9493-a1813e384464",
   "metadata": {},
   "source": [
    "An extended example: Question we're trying to answer: How many nests do we have for each species?\n",
    "\n",
    "Approach: first get all species. Then execute a count query for each species:"
   ]
  },
  {
   "cell_type": "markdown",
   "id": "6bd90210-2457-455c-a320-b72de7799f64",
   "metadata": {
    "tags": []
   },
   "source": [
    "A digression: string interpolation in Python "
   ]
  },
  {
   "cell_type": "code",
   "execution_count": 60,
   "id": "21edde7e-20cb-45ad-b971-8118241bc2e9",
   "metadata": {
    "tags": []
   },
   "outputs": [
    {
     "name": "stdout",
     "output_type": "stream",
     "text": [
      "My name is Greg\n"
     ]
    }
   ],
   "source": [
    "s= \"My name is %s\" \n",
    "print(s % \"Greg\")"
   ]
  },
  {
   "cell_type": "code",
   "execution_count": 62,
   "id": "71cd6b6a-3a00-407e-b739-254ad09dfbe8",
   "metadata": {
    "tags": []
   },
   "outputs": [
    {
     "name": "stdout",
     "output_type": "stream",
     "text": [
      "Species agsq has 0 nests\n",
      "Species amcr has 0 nests\n",
      "Species amgp has 29 nests\n"
     ]
    }
   ],
   "source": [
    "query = \"\"\"\n",
    "    SELECT COUNT (*) FROM Bird_nests\n",
    "    WHERE Species = '%s'\n",
    "\"\"\"\n",
    "# for each species, stuff in code from species\n",
    "# use our cursor\n",
    "cur.execute(\"SELECT Code FROM Species LIMIT 3\")\n",
    "for row in cur.fetchall(): # duckdb workaround\n",
    "    code = row[0]\n",
    "    prepared_query = query % code\n",
    "    #print(prepared_query)\n",
    "    cur2 = conn.cursor()\n",
    "    cur2.execute(prepared_query)\n",
    "    print(f\"Species {code} has {cur2.fetchone()[0]} nests\")\n",
    "    cur2.close()"
   ]
  },
  {
   "cell_type": "markdown",
   "id": "24b9c9af-8449-4cdc-b0a2-a4fc3defb8c7",
   "metadata": {},
   "source": [
    "The above python interpolation is dangerous and has cuased many database hacks! There's a better way: "
   ]
  },
  {
   "cell_type": "code",
   "execution_count": 63,
   "id": "b13af3aa-fbca-43bb-ac0f-02f2b5e69856",
   "metadata": {
    "tags": []
   },
   "outputs": [
    {
     "name": "stdout",
     "output_type": "stream",
     "text": [
      "Species agsq has 0 nests\n",
      "Species amcr has 0 nests\n",
      "Species amgp has 29 nests\n"
     ]
    }
   ],
   "source": [
    "query = \"\"\"\n",
    "    SELECT COUNT (*) FROM Bird_nests\n",
    "    WHERE Species = ?\n",
    "\"\"\"\n",
    "# for each species, stuff in code from species\n",
    "# use our cursor\n",
    "cur.execute(\"SELECT Code FROM Species LIMIT 3\")\n",
    "for row in cur.fetchall(): # duckdb workaround\n",
    "    code = row[0]\n",
    "    # NOT NEEDED! prepared_query = query % code\n",
    "    #print(prepared_query)\n",
    "    cur2 = conn.cursor()\n",
    "    cur2.execute(query, [code]) # <---  added argument here \n",
    "    print(f\"Species {code} has {cur2.fetchone()[0]} nests\")\n",
    "    cur2.close()"
   ]
  },
  {
   "cell_type": "markdown",
   "id": "79a93a87-19d2-4b2a-9d6b-6019b1f96f9e",
   "metadata": {},
   "source": [
    "Let's illustrate the danger with a different example"
   ]
  },
  {
   "cell_type": "code",
   "execution_count": 64,
   "id": "eb1953d6-7d42-42ea-8c36-ea43b9c8f91e",
   "metadata": {
    "tags": []
   },
   "outputs": [
    {
     "data": {
      "text/plain": [
       "<duckdb.duckdb.DuckDBPyConnection at 0x7f2a406fe070>"
      ]
     },
     "execution_count": 64,
     "metadata": {},
     "output_type": "execute_result"
    }
   ],
   "source": [
    "abbrev = \"TS\" \n",
    "name = \"Taylor Swift\" \n",
    "cur.execute(\"\"\"\n",
    "    INSERT INTO Personnel (Abbreviation, Name) \n",
    "    VALUES ('%s', '%s') \n",
    "    \"\"\" % (abbrev, name) \n",
    "           )"
   ]
  },
  {
   "cell_type": "code",
   "execution_count": 65,
   "id": "a22c6c67-7c32-4880-a9eb-e1178dfb5d98",
   "metadata": {
    "tags": []
   },
   "outputs": [
    {
     "data": {
      "text/plain": [
       "[('emagnuson', 'Emily Magnuson'),\n",
       " ('mcorrell', 'Maureen Correll'),\n",
       " ('TS', 'Taylor Swift')]"
      ]
     },
     "execution_count": 65,
     "metadata": {},
     "output_type": "execute_result"
    }
   ],
   "source": [
    "cur.execute(\"SELECT * FROM Personnel\") \n",
    "cur.fetchall()[-3:]"
   ]
  },
  {
   "cell_type": "code",
   "execution_count": 68,
   "id": "35cf6b07-fa4e-451f-bc46-aacef0e36961",
   "metadata": {
    "tags": []
   },
   "outputs": [
    {
     "data": {
      "text/plain": [
       "<duckdb.duckdb.DuckDBPyConnection at 0x7f2a406fe070>"
      ]
     },
     "execution_count": 68,
     "metadata": {},
     "output_type": "execute_result"
    }
   ],
   "source": [
    "abbrev = \"CO\"\n",
    "name = \"Conan O'Brian\"\n",
    "cur.execute( \"\"\"\n",
    " INSERT INTO Personnel (Abbreviation, Name) \n",
    " VALUES(?,?)\n",
    " \"\"\", \n",
    "    [abbrev, name])"
   ]
  },
  {
   "cell_type": "code",
   "execution_count": 69,
   "id": "78e38f60-a929-4bb4-b558-c720d9bad035",
   "metadata": {
    "tags": []
   },
   "outputs": [
    {
     "data": {
      "text/plain": [
       "[('mcorrell', 'Maureen Correll'),\n",
       " ('TS', 'Taylor Swift'),\n",
       " ('CO', \"Conan O'Brian\")]"
      ]
     },
     "execution_count": 69,
     "metadata": {},
     "output_type": "execute_result"
    }
   ],
   "source": [
    "cur.execute(\"SELECT * FROM Personnel\") \n",
    "cur.fetchall()[-3:]"
   ]
  },
  {
   "cell_type": "code",
   "execution_count": null,
   "id": "7a0ee988-511e-43a6-8cb9-58fcdf0eb336",
   "metadata": {},
   "outputs": [],
   "source": []
  }
 ],
 "metadata": {
  "kernelspec": {
   "display_name": "Python 3 (ipykernel)",
   "language": "python",
   "name": "python3"
  },
  "language_info": {
   "codemirror_mode": {
    "name": "ipython",
    "version": 3
   },
   "file_extension": ".py",
   "mimetype": "text/x-python",
   "name": "python",
   "nbconvert_exporter": "python",
   "pygments_lexer": "ipython3",
   "version": "3.7.13"
  }
 },
 "nbformat": 4,
 "nbformat_minor": 5
}
