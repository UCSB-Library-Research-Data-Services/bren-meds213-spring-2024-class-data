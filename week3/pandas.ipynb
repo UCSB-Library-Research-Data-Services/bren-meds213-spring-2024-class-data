{
 "cells": [
  {
   "cell_type": "code",
   "execution_count": 7,
   "id": "a74b4cb1-722b-4e09-b511-7cd3e5b4a4cc",
   "metadata": {
    "tags": []
   },
   "outputs": [
    {
     "name": "stdout",
     "output_type": "stream",
     "text": [
      "Defaulting to user installation because normal site-packages is not writeable\n",
      "Requirement already satisfied: duckdb in /Users/dmnavarro/.local/lib/python3.7/site-packages (0.10.2)\n",
      "\n",
      "\u001b[1m[\u001b[0m\u001b[34;49mnotice\u001b[0m\u001b[1;39;49m]\u001b[0m\u001b[39;49m A new release of pip is available: \u001b[0m\u001b[31;49m23.3.2\u001b[0m\u001b[39;49m -> \u001b[0m\u001b[32;49m24.0\u001b[0m\n",
      "\u001b[1m[\u001b[0m\u001b[34;49mnotice\u001b[0m\u001b[1;39;49m]\u001b[0m\u001b[39;49m To update, run: \u001b[0m\u001b[32;49mpip install --upgrade pip\u001b[0m\n",
      "Note: you may need to restart the kernel to use updated packages.\n"
     ]
    }
   ],
   "source": [
    "%pip install duckdb"
   ]
  },
  {
   "cell_type": "code",
   "execution_count": 1,
   "id": "14680f2b-7b7e-4cc2-8515-6b258c30fc73",
   "metadata": {
    "tags": []
   },
   "outputs": [],
   "source": [
    "import duckdb"
   ]
  },
  {
   "cell_type": "code",
   "execution_count": 2,
   "id": "fee61f08-59ba-4570-a45d-f2869088687b",
   "metadata": {
    "tags": []
   },
   "outputs": [],
   "source": [
    "conn = duckdb.connect(\"database.db\")"
   ]
  },
  {
   "cell_type": "code",
   "execution_count": 3,
   "id": "cc5496dd-ad10-487b-a0fa-17b5e90d38c3",
   "metadata": {
    "tags": []
   },
   "outputs": [],
   "source": [
    "cur = conn.cursor()"
   ]
  },
  {
   "cell_type": "code",
   "execution_count": 4,
   "id": "75bdd2f4-5216-453c-bddb-dad8b108ea3c",
   "metadata": {
    "tags": []
   },
   "outputs": [
    {
     "data": {
      "text/plain": [
       "[(2005,\n",
       "  'bylo',\n",
       "  'lmckinnon',\n",
       "  datetime.date(2005, 6, 1),\n",
       "  datetime.date(2005, 8, 5)),\n",
       " (2005,\n",
       "  'bylo',\n",
       "  'blalibert',\n",
       "  datetime.date(2005, 6, 1),\n",
       "  datetime.date(2005, 8, 20)),\n",
       " (2006,\n",
       "  'bylo',\n",
       "  'lmckinnon',\n",
       "  datetime.date(2006, 6, 1),\n",
       "  datetime.date(2006, 8, 5))]"
      ]
     },
     "execution_count": 4,
     "metadata": {},
     "output_type": "execute_result"
    }
   ],
   "source": [
    "cur.execute(\"SELECT * FROM Camp_assignment LIMIT 3\")\n",
    "cur.fetchall()"
   ]
  },
  {
   "cell_type": "code",
   "execution_count": 5,
   "id": "064ae9ac-cca5-46db-bbd5-6f6cb4b225e3",
   "metadata": {
    "tags": []
   },
   "outputs": [
    {
     "data": {
      "text/plain": [
       "[]"
      ]
     },
     "execution_count": 5,
     "metadata": {},
     "output_type": "execute_result"
    }
   ],
   "source": [
    "cur.fetchall()"
   ]
  },
  {
   "cell_type": "code",
   "execution_count": 6,
   "id": "029c7e65-ea39-4c59-a0b4-ec5e4c8405c7",
   "metadata": {
    "tags": []
   },
   "outputs": [],
   "source": [
    "cur.fetchone()"
   ]
  },
  {
   "cell_type": "code",
   "execution_count": 12,
   "id": "ebfbe6a2-046e-47a3-bd34-db2141b5a1a2",
   "metadata": {
    "tags": []
   },
   "outputs": [
    {
     "name": "stdout",
     "output_type": "stream",
     "text": [
      "Observer dkessler gathered 69 nests\n",
      "Observer bharrington gathered 245 nests\n",
      "Observer lmckinnon gathered 249 nests\n",
      "Observer dhodkinson gathered 15 nests\n",
      "Observer bhill gathered 55 nests\n",
      "Observer ssaalfeld gathered 13 nests\n",
      "Observer wenglish gathered 18 nests\n",
      "Observer lworing gathered 14 nests\n",
      "Observer vloverti gathered 54 nests\n",
      "Observer rlanctot gathered 40 nests\n",
      "Observer abankert gathered 17 nests\n",
      "Observer edastrous gathered 38 nests\n",
      "Observer amould gathered 42 nests\n",
      "Observer bkaselow gathered 4 nests\n",
      "Observer jflamarre gathered 43 nests\n",
      "Observer jzamuido gathered 11 nests\n",
      "Observer mballvanzee gathered 2 nests\n",
      "Observer mbwunder gathered 4 nests\n",
      "Observer None gathered 0 nests\n",
      "Observer kkalasz gathered 12 nests\n"
     ]
    }
   ],
   "source": [
    "inner_query = \"\"\"\n",
    "    SELECT COUNT(*) AS num_nests \n",
    "    FROM Bird_nests\n",
    "    WHERE Observer = ?\n",
    "\"\"\"\n",
    "\n",
    "outer_query = \"\"\"\n",
    "    SELECT DISTINCT Observer FROM Bird_nests \n",
    "\"\"\"\n",
    "\n",
    "for row in cur.execute(outer_query).fetchall():\n",
    "    observer = row[0]\n",
    "    cur2 = conn.cursor()\n",
    "    cur2.execute(inner_query, [observer])\n",
    "    print(f\"Observer {observer} gathered {cur2.fetchone()[0]} nests\")"
   ]
  },
  {
   "cell_type": "markdown",
   "id": "7fc40ac6-5763-4c8d-a4f1-5005e14adc8c",
   "metadata": {},
   "source": [
    "Pandas"
   ]
  },
  {
   "cell_type": "code",
   "execution_count": 13,
   "id": "50cd90c9-59ba-431d-9a16-8210b289e003",
   "metadata": {
    "tags": []
   },
   "outputs": [],
   "source": [
    "import pandas as pd"
   ]
  },
  {
   "cell_type": "code",
   "execution_count": 14,
   "id": "e5f7d7b6-24a9-4b3a-9697-fceb0e267360",
   "metadata": {
    "tags": []
   },
   "outputs": [],
   "source": [
    "df = pd.read_sql(\"SELECT * FROM Site\", conn)"
   ]
  },
  {
   "cell_type": "code",
   "execution_count": null,
   "id": "7c87eb5e-9c76-45e5-9503-9a80bcea69de",
   "metadata": {},
   "outputs": [],
   "source": [
    " "
   ]
  }
 ],
 "metadata": {
  "kernelspec": {
   "display_name": "Python 3 (ipykernel)",
   "language": "python",
   "name": "python3"
  },
  "language_info": {
   "codemirror_mode": {
    "name": "ipython",
    "version": 3
   },
   "file_extension": ".py",
   "mimetype": "text/x-python",
   "name": "python",
   "nbconvert_exporter": "python",
   "pygments_lexer": "ipython3",
   "version": "3.7.13"
  }
 },
 "nbformat": 4,
 "nbformat_minor": 5
}
